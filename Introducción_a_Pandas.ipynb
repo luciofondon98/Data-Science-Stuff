{
 "cells": [
  {
   "cell_type": "markdown",
   "metadata": {
    "id": "7XG8my-6_EAz"
   },
   "source": [
    "## ¿Qué es Pandas?\n",
    "\n",
    "* Pandas es una librería que se extiende de NumPy utilizada para la manipulación y análisis de datos\n",
    "* Ofrece estructuras de datos más complejas pero a la vez más eficientes para almacenar y operar sobre datos, usualmente heterogéneos (parecidos a los arreglos estructurales de NumPy)\n",
    "* Las estructuras de datos más importantes que ofrece son: \n",
    " * $\\textbf{DataFrames}$\n",
    " * $\\textbf{Series}$"
   ]
  },
  {
   "cell_type": "markdown",
   "metadata": {
    "id": "ZghpcC2UcJ_t"
   },
   "source": [
    "## Importando Pandas "
   ]
  },
  {
   "cell_type": "markdown",
   "metadata": {
    "id": "zIdDxlSkcOQa"
   },
   "source": [
    "* Para importar Pandas simplemente hacemos:"
   ]
  },
  {
   "cell_type": "code",
   "execution_count": 3,
   "metadata": {
    "executionInfo": {
     "elapsed": 1606,
     "status": "ok",
     "timestamp": 1604082671101,
     "user": {
      "displayName": "Lucio Fondon",
      "photoUrl": "",
      "userId": "12681094218631680346"
     },
     "user_tz": 180
    },
    "id": "KEL_FM5-cSk1"
   },
   "outputs": [],
   "source": [
    "import pandas as pd\n",
    "import numpy as np"
   ]
  },
  {
   "cell_type": "markdown",
   "metadata": {
    "id": "94CIgBTvcW9K"
   },
   "source": [
    "* Jupyter Notebook nos ofrece la posibilidad de ver la documentación del paquete de la siguiente forma"
   ]
  },
  {
   "cell_type": "code",
   "execution_count": 4,
   "metadata": {
    "id": "-sQbNOjtcc3Z"
   },
   "outputs": [],
   "source": [
    "#pd?"
   ]
  },
  {
   "cell_type": "markdown",
   "metadata": {
    "id": "Qb2o5CKkelBZ"
   },
   "source": [
    "## DataFrames en Pandas\n",
    "\n",
    "* Los DataFrames son una estructura de datos en dos dimensiones con columnas de datos de tipos potencialmente diferentes\n",
    "* Si no se especifíca, los índices parten del $0$ al $n-1$ dato\n",
    "* En palabras simples, es básicamente la representación de un archivo Excel pero en Python"
   ]
  },
  {
   "cell_type": "markdown",
   "metadata": {
    "id": "BkiwhZzrj1Ij"
   },
   "source": [
    "## Cómo crear DataFrames"
   ]
  },
  {
   "cell_type": "markdown",
   "metadata": {
    "id": "jvYZ3D-hkAMh"
   },
   "source": [
    "* Hay muchas formas de crear un Dataframe en Pandas, una forma simple de realizarlo es con un diccionario y listas nativas de Python"
   ]
  },
  {
   "cell_type": "code",
   "execution_count": 5,
   "metadata": {
    "colab": {
     "base_uri": "https://localhost:8080/"
    },
    "executionInfo": {
     "elapsed": 1769,
     "status": "ok",
     "timestamp": 1604082950704,
     "user": {
      "displayName": "Lucio Fondon",
      "photoUrl": "",
      "userId": "12681094218631680346"
     },
     "user_tz": 180
    },
    "id": "nLn1tgVkkeob",
    "outputId": "93f9a1d5-7ed7-404a-b722-f7a7931956ed",
    "scrolled": true
   },
   "outputs": [
    {
     "data": {
      "text/html": [
       "<div>\n",
       "<style scoped>\n",
       "    .dataframe tbody tr th:only-of-type {\n",
       "        vertical-align: middle;\n",
       "    }\n",
       "\n",
       "    .dataframe tbody tr th {\n",
       "        vertical-align: top;\n",
       "    }\n",
       "\n",
       "    .dataframe thead th {\n",
       "        text-align: right;\n",
       "    }\n",
       "</style>\n",
       "<table border=\"1\" class=\"dataframe\">\n",
       "  <thead>\n",
       "    <tr style=\"text-align: right;\">\n",
       "      <th></th>\n",
       "      <th>nombre</th>\n",
       "      <th>edad</th>\n",
       "      <th>universidad</th>\n",
       "    </tr>\n",
       "  </thead>\n",
       "  <tbody>\n",
       "    <tr>\n",
       "      <th>0</th>\n",
       "      <td>Pepe</td>\n",
       "      <td>20</td>\n",
       "      <td>USM</td>\n",
       "    </tr>\n",
       "    <tr>\n",
       "      <th>1</th>\n",
       "      <td>María</td>\n",
       "      <td>23</td>\n",
       "      <td>PUC</td>\n",
       "    </tr>\n",
       "    <tr>\n",
       "      <th>2</th>\n",
       "      <td>Luis</td>\n",
       "      <td>25</td>\n",
       "      <td>PUC</td>\n",
       "    </tr>\n",
       "    <tr>\n",
       "      <th>3</th>\n",
       "      <td>Juan</td>\n",
       "      <td>25</td>\n",
       "      <td>UCH</td>\n",
       "    </tr>\n",
       "    <tr>\n",
       "      <th>4</th>\n",
       "      <td>Ernesto</td>\n",
       "      <td>19</td>\n",
       "      <td>USACH</td>\n",
       "    </tr>\n",
       "    <tr>\n",
       "      <th>5</th>\n",
       "      <td>Fernando</td>\n",
       "      <td>21</td>\n",
       "      <td>USM</td>\n",
       "    </tr>\n",
       "    <tr>\n",
       "      <th>6</th>\n",
       "      <td>Gonzalo</td>\n",
       "      <td>24</td>\n",
       "      <td>UDP</td>\n",
       "    </tr>\n",
       "  </tbody>\n",
       "</table>\n",
       "</div>"
      ],
      "text/plain": [
       "     nombre  edad universidad\n",
       "0      Pepe    20         USM\n",
       "1     María    23         PUC\n",
       "2      Luis    25         PUC\n",
       "3      Juan    25         UCH\n",
       "4   Ernesto    19       USACH\n",
       "5  Fernando    21         USM\n",
       "6   Gonzalo    24         UDP"
      ]
     },
     "execution_count": 5,
     "metadata": {},
     "output_type": "execute_result"
    }
   ],
   "source": [
    "datos = { \n",
    "     'nombre' : [\"Pepe\", \"María\", \"Luis\", \"Juan\", \"Ernesto\",\"Fernando\", \"Gonzalo\"],\n",
    "     'edad' : [20,23,25, 25, 19, 21, 24],\n",
    "     'universidad': [\"USM\", \"PUC\", \"PUC\", \"UCH\", \"USACH\", \"USM\", \"UDP\"]\n",
    "} #diccionario con nuestros datos\n",
    "\n",
    "df = pd.DataFrame(datos) #usamos pd.Dataframe() para crear el dataframe (df)\n",
    "df"
   ]
  },
  {
   "cell_type": "markdown",
   "metadata": {},
   "source": [
    "## Utilidades de los DataFrames"
   ]
  },
  {
   "cell_type": "markdown",
   "metadata": {},
   "source": [
    "* Podemos ver los tipos de datos de las columnas de la siguiente forma:"
   ]
  },
  {
   "cell_type": "code",
   "execution_count": 6,
   "metadata": {},
   "outputs": [
    {
     "data": {
      "text/plain": [
       "nombre         object\n",
       "edad            int64\n",
       "universidad    object\n",
       "dtype: object"
      ]
     },
     "execution_count": 6,
     "metadata": {},
     "output_type": "execute_result"
    }
   ],
   "source": [
    "df.dtypes"
   ]
  },
  {
   "cell_type": "markdown",
   "metadata": {},
   "source": [
    "* Por lo general, nuestros dataframes tendrán cientos y miles de datos. Con $head()$ y $tail()$ podemos ver una cantidad específica de filas"
   ]
  },
  {
   "cell_type": "code",
   "execution_count": 7,
   "metadata": {},
   "outputs": [
    {
     "name": "stdout",
     "output_type": "stream",
     "text": [
      "    nombre  edad universidad\n",
      "0     Pepe    20         USM\n",
      "1    María    23         PUC\n",
      "2     Luis    25         PUC\n",
      "3     Juan    25         UCH\n",
      "4  Ernesto    19       USACH\n",
      "---------------------------------\n",
      "     nombre  edad universidad\n",
      "2      Luis    25         PUC\n",
      "3      Juan    25         UCH\n",
      "4   Ernesto    19       USACH\n",
      "5  Fernando    21         USM\n",
      "6   Gonzalo    24         UDP\n",
      "---------------------------------\n",
      "  nombre  edad universidad\n",
      "0   Pepe    20         USM\n",
      "1  María    23         PUC\n",
      "2   Luis    25         PUC\n",
      "---------------------------------\n",
      "     nombre  edad universidad\n",
      "5  Fernando    21         USM\n",
      "6   Gonzalo    24         UDP\n"
     ]
    }
   ],
   "source": [
    "print(df.head()) #si no se pasa parámetro, muestra por defecto las primeras 5 filas\n",
    "print(\"---------------------------------\")\n",
    "print(df.tail()) #si no se pasa parámetro, muestra por defecto las últimas 5 filas\n",
    "print(\"---------------------------------\")\n",
    "print(df.head(3)) #muestra las 3 primeras filas\n",
    "print(\"---------------------------------\")\n",
    "print(df.tail(2)) #muestra las 2 útlimas filas"
   ]
  },
  {
   "cell_type": "markdown",
   "metadata": {},
   "source": [
    "* También se pueden obtener el nombre de las columnas y los índices:"
   ]
  },
  {
   "cell_type": "code",
   "execution_count": 8,
   "metadata": {},
   "outputs": [
    {
     "name": "stdout",
     "output_type": "stream",
     "text": [
      "RangeIndex(start=0, stop=7, step=1)\n",
      "Index(['nombre', 'edad', 'universidad'], dtype='object')\n"
     ]
    }
   ],
   "source": [
    "print(df.index) #del 0 al 6\n",
    "print(df.columns) #nombres de las columnas"
   ]
  },
  {
   "cell_type": "markdown",
   "metadata": {},
   "source": [
    "* Si queremos un resumen estadístico de manera rápida de nuestro dataframe, podemos utilizar el método $describe()$:"
   ]
  },
  {
   "cell_type": "code",
   "execution_count": 9,
   "metadata": {},
   "outputs": [
    {
     "data": {
      "text/html": [
       "<div>\n",
       "<style scoped>\n",
       "    .dataframe tbody tr th:only-of-type {\n",
       "        vertical-align: middle;\n",
       "    }\n",
       "\n",
       "    .dataframe tbody tr th {\n",
       "        vertical-align: top;\n",
       "    }\n",
       "\n",
       "    .dataframe thead th {\n",
       "        text-align: right;\n",
       "    }\n",
       "</style>\n",
       "<table border=\"1\" class=\"dataframe\">\n",
       "  <thead>\n",
       "    <tr style=\"text-align: right;\">\n",
       "      <th></th>\n",
       "      <th>edad</th>\n",
       "    </tr>\n",
       "  </thead>\n",
       "  <tbody>\n",
       "    <tr>\n",
       "      <th>count</th>\n",
       "      <td>7.000000</td>\n",
       "    </tr>\n",
       "    <tr>\n",
       "      <th>mean</th>\n",
       "      <td>22.428571</td>\n",
       "    </tr>\n",
       "    <tr>\n",
       "      <th>std</th>\n",
       "      <td>2.439750</td>\n",
       "    </tr>\n",
       "    <tr>\n",
       "      <th>min</th>\n",
       "      <td>19.000000</td>\n",
       "    </tr>\n",
       "    <tr>\n",
       "      <th>25%</th>\n",
       "      <td>20.500000</td>\n",
       "    </tr>\n",
       "    <tr>\n",
       "      <th>50%</th>\n",
       "      <td>23.000000</td>\n",
       "    </tr>\n",
       "    <tr>\n",
       "      <th>75%</th>\n",
       "      <td>24.500000</td>\n",
       "    </tr>\n",
       "    <tr>\n",
       "      <th>max</th>\n",
       "      <td>25.000000</td>\n",
       "    </tr>\n",
       "  </tbody>\n",
       "</table>\n",
       "</div>"
      ],
      "text/plain": [
       "            edad\n",
       "count   7.000000\n",
       "mean   22.428571\n",
       "std     2.439750\n",
       "min    19.000000\n",
       "25%    20.500000\n",
       "50%    23.000000\n",
       "75%    24.500000\n",
       "max    25.000000"
      ]
     },
     "execution_count": 9,
     "metadata": {},
     "output_type": "execute_result"
    }
   ],
   "source": [
    "df.describe() #muestra resumenes estadísticos de todas las columnas numéricas, en este caso la columna edad"
   ]
  },
  {
   "cell_type": "markdown",
   "metadata": {},
   "source": [
    "## Series en Pandas"
   ]
  },
  {
   "cell_type": "markdown",
   "metadata": {},
   "source": [
    "* En general, el trabajo con datos que se realiza en los dataframes es en base a las columnas de éstos, y las columnas en los dataframes son las $Series$\n",
    "* Por ejemplo, en nuestro caso anterior, tenemos un DataFrame compuesto de 3 Series, $\\textbf{nombre, edad, universidad}$"
   ]
  },
  {
   "cell_type": "code",
   "execution_count": 10,
   "metadata": {},
   "outputs": [
    {
     "name": "stdout",
     "output_type": "stream",
     "text": [
      "['Pepe' 'María' 'Luis' 'Juan' 'Ernesto' 'Fernando' 'Gonzalo']\n",
      "[20 23 25 25 19 21 24]\n",
      "['USM' 'PUC' 'PUC' 'UCH' 'USACH' 'USM' 'UDP']\n"
     ]
    }
   ],
   "source": [
    "#Podemos obtener los valores de cada columna de nuestro DataFrame, mostrándose como un arreglo de NumPy\n",
    "print(df['nombre'].values)\n",
    "print(df['edad'].values)\n",
    "print(df['universidad'].values)"
   ]
  },
  {
   "cell_type": "markdown",
   "metadata": {},
   "source": [
    "* Podemos crear una Series de Pandas a partir de una lista nativa de Python:"
   ]
  },
  {
   "cell_type": "code",
   "execution_count": 11,
   "metadata": {
    "scrolled": false
   },
   "outputs": [
    {
     "data": {
      "text/plain": [
       "0          Programación\n",
       "1          Programación\n",
       "2            Cálculo II\n",
       "3            Cálculo II\n",
       "4            Cálculo II\n",
       "5                   EDO\n",
       "6    Física General III\n",
       "dtype: object"
      ]
     },
     "execution_count": 11,
     "metadata": {},
     "output_type": "execute_result"
    }
   ],
   "source": [
    "ramos = pd.Series(['Programación','Programación','Cálculo II','Cálculo II','Cálculo II','EDO','Física General III'])\n",
    "ramos"
   ]
  },
  {
   "cell_type": "markdown",
   "metadata": {},
   "source": [
    "* Podemos acceder a los elementos individuales de la Series, de manera como si accediésemos a los índices de una lista o arreglo"
   ]
  },
  {
   "cell_type": "code",
   "execution_count": 12,
   "metadata": {},
   "outputs": [
    {
     "name": "stdout",
     "output_type": "stream",
     "text": [
      "Programación\n",
      "---------------------------------\n",
      "0    Programación\n",
      "1    Programación\n",
      "2      Cálculo II\n",
      "dtype: object\n",
      "---------------------------------\n",
      "0          Programación\n",
      "2            Cálculo II\n",
      "4            Cálculo II\n",
      "6    Física General III\n",
      "dtype: object\n",
      "---------------------------------\n"
     ]
    }
   ],
   "source": [
    "print(ramos[0]) #muestra el primer elemento \n",
    "print(\"---------------------------------\")\n",
    "print(ramos[0:3]) #muestra del índice 0 al 3, sin incluir el 4to elemento\n",
    "print(\"---------------------------------\")\n",
    "print(ramos[::2])\n",
    "print(\"---------------------------------\") #muestra saltándose de 2 en 2"
   ]
  },
  {
   "cell_type": "markdown",
   "metadata": {},
   "source": [
    "* Si queremos, podemos agregar una Series a un DataFrame de la siguiente forma:"
   ]
  },
  {
   "cell_type": "code",
   "execution_count": 13,
   "metadata": {},
   "outputs": [
    {
     "data": {
      "text/html": [
       "<div>\n",
       "<style scoped>\n",
       "    .dataframe tbody tr th:only-of-type {\n",
       "        vertical-align: middle;\n",
       "    }\n",
       "\n",
       "    .dataframe tbody tr th {\n",
       "        vertical-align: top;\n",
       "    }\n",
       "\n",
       "    .dataframe thead th {\n",
       "        text-align: right;\n",
       "    }\n",
       "</style>\n",
       "<table border=\"1\" class=\"dataframe\">\n",
       "  <thead>\n",
       "    <tr style=\"text-align: right;\">\n",
       "      <th></th>\n",
       "      <th>nombre</th>\n",
       "      <th>edad</th>\n",
       "      <th>universidad</th>\n",
       "      <th>ramo</th>\n",
       "    </tr>\n",
       "  </thead>\n",
       "  <tbody>\n",
       "    <tr>\n",
       "      <th>0</th>\n",
       "      <td>Pepe</td>\n",
       "      <td>20</td>\n",
       "      <td>USM</td>\n",
       "      <td>Programación</td>\n",
       "    </tr>\n",
       "    <tr>\n",
       "      <th>1</th>\n",
       "      <td>María</td>\n",
       "      <td>23</td>\n",
       "      <td>PUC</td>\n",
       "      <td>Programación</td>\n",
       "    </tr>\n",
       "    <tr>\n",
       "      <th>2</th>\n",
       "      <td>Luis</td>\n",
       "      <td>25</td>\n",
       "      <td>PUC</td>\n",
       "      <td>Cálculo II</td>\n",
       "    </tr>\n",
       "    <tr>\n",
       "      <th>3</th>\n",
       "      <td>Juan</td>\n",
       "      <td>25</td>\n",
       "      <td>UCH</td>\n",
       "      <td>Cálculo II</td>\n",
       "    </tr>\n",
       "    <tr>\n",
       "      <th>4</th>\n",
       "      <td>Ernesto</td>\n",
       "      <td>19</td>\n",
       "      <td>USACH</td>\n",
       "      <td>Cálculo II</td>\n",
       "    </tr>\n",
       "    <tr>\n",
       "      <th>5</th>\n",
       "      <td>Fernando</td>\n",
       "      <td>21</td>\n",
       "      <td>USM</td>\n",
       "      <td>EDO</td>\n",
       "    </tr>\n",
       "    <tr>\n",
       "      <th>6</th>\n",
       "      <td>Gonzalo</td>\n",
       "      <td>24</td>\n",
       "      <td>UDP</td>\n",
       "      <td>Física General III</td>\n",
       "    </tr>\n",
       "  </tbody>\n",
       "</table>\n",
       "</div>"
      ],
      "text/plain": [
       "     nombre  edad universidad                ramo\n",
       "0      Pepe    20         USM        Programación\n",
       "1     María    23         PUC        Programación\n",
       "2      Luis    25         PUC          Cálculo II\n",
       "3      Juan    25         UCH          Cálculo II\n",
       "4   Ernesto    19       USACH          Cálculo II\n",
       "5  Fernando    21         USM                 EDO\n",
       "6   Gonzalo    24         UDP  Física General III"
      ]
     },
     "execution_count": 13,
     "metadata": {},
     "output_type": "execute_result"
    }
   ],
   "source": [
    "df['ramo'] = ramos #añadimos nueva columna etiquetada como 'ramo' y la igualamos a la variable ramos, que es una Series\n",
    "df"
   ]
  },
  {
   "cell_type": "markdown",
   "metadata": {},
   "source": [
    "## Acceso a las Series"
   ]
  },
  {
   "cell_type": "markdown",
   "metadata": {},
   "source": [
    "* Las Series (columnas de un DataFrame) de Pandas son muy flexibles en cuánto a su acceso, principalmente debido a que los índices se pueden comportar como números (así como si fuese un arreglo de NumPy) tanto como strings (así como si fuese un diccionario de Python)\n",
    "* Utilizaremos el DataFrame anterior y crearemos otro nuevo para demostrar la flexibilidad de las Series:"
   ]
  },
  {
   "cell_type": "code",
   "execution_count": 14,
   "metadata": {
    "scrolled": true
   },
   "outputs": [],
   "source": [
    "nombres_paises = ['Chile','Colombia','Inglaterra','Brasil','México','Argentina']\n",
    "capitales = ['Santiago','Bogotá','Londres','Brasilia','Ciudad de México','Buenos Aires']\n",
    "habitantes = [19107000,50372424,66796807,212822000,126014024,45376763]\n",
    "superficie = [756102,1141748,243610,8515767,1964375,2780400]\n",
    "df_2 = pd.DataFrame({'capital': capitales, # es posible crear el df con un diccionario, en donde las llaves son \n",
    "                     'habitantes': habitantes, # los nombres de las columnas, y los valores son los datos de éstas\n",
    "                     'superficie (km^2)': superficie}, \n",
    "                   index = nombres_paises) # creamos un dataframe, compuesto de las listas creadas\n",
    "                                           # notemos que explicitamos el índice a ser usado"
   ]
  },
  {
   "cell_type": "code",
   "execution_count": 15,
   "metadata": {},
   "outputs": [
    {
     "data": {
      "text/html": [
       "<div>\n",
       "<style scoped>\n",
       "    .dataframe tbody tr th:only-of-type {\n",
       "        vertical-align: middle;\n",
       "    }\n",
       "\n",
       "    .dataframe tbody tr th {\n",
       "        vertical-align: top;\n",
       "    }\n",
       "\n",
       "    .dataframe thead th {\n",
       "        text-align: right;\n",
       "    }\n",
       "</style>\n",
       "<table border=\"1\" class=\"dataframe\">\n",
       "  <thead>\n",
       "    <tr style=\"text-align: right;\">\n",
       "      <th></th>\n",
       "      <th>nombre</th>\n",
       "      <th>edad</th>\n",
       "      <th>universidad</th>\n",
       "      <th>ramo</th>\n",
       "    </tr>\n",
       "  </thead>\n",
       "  <tbody>\n",
       "    <tr>\n",
       "      <th>0</th>\n",
       "      <td>Pepe</td>\n",
       "      <td>20</td>\n",
       "      <td>USM</td>\n",
       "      <td>Programación</td>\n",
       "    </tr>\n",
       "    <tr>\n",
       "      <th>1</th>\n",
       "      <td>María</td>\n",
       "      <td>23</td>\n",
       "      <td>PUC</td>\n",
       "      <td>Programación</td>\n",
       "    </tr>\n",
       "    <tr>\n",
       "      <th>2</th>\n",
       "      <td>Luis</td>\n",
       "      <td>25</td>\n",
       "      <td>PUC</td>\n",
       "      <td>Cálculo II</td>\n",
       "    </tr>\n",
       "    <tr>\n",
       "      <th>3</th>\n",
       "      <td>Juan</td>\n",
       "      <td>25</td>\n",
       "      <td>UCH</td>\n",
       "      <td>Cálculo II</td>\n",
       "    </tr>\n",
       "    <tr>\n",
       "      <th>4</th>\n",
       "      <td>Ernesto</td>\n",
       "      <td>19</td>\n",
       "      <td>USACH</td>\n",
       "      <td>Cálculo II</td>\n",
       "    </tr>\n",
       "    <tr>\n",
       "      <th>5</th>\n",
       "      <td>Fernando</td>\n",
       "      <td>21</td>\n",
       "      <td>USM</td>\n",
       "      <td>EDO</td>\n",
       "    </tr>\n",
       "    <tr>\n",
       "      <th>6</th>\n",
       "      <td>Gonzalo</td>\n",
       "      <td>24</td>\n",
       "      <td>UDP</td>\n",
       "      <td>Física General III</td>\n",
       "    </tr>\n",
       "  </tbody>\n",
       "</table>\n",
       "</div>"
      ],
      "text/plain": [
       "     nombre  edad universidad                ramo\n",
       "0      Pepe    20         USM        Programación\n",
       "1     María    23         PUC        Programación\n",
       "2      Luis    25         PUC          Cálculo II\n",
       "3      Juan    25         UCH          Cálculo II\n",
       "4   Ernesto    19       USACH          Cálculo II\n",
       "5  Fernando    21         USM                 EDO\n",
       "6   Gonzalo    24         UDP  Física General III"
      ]
     },
     "execution_count": 15,
     "metadata": {},
     "output_type": "execute_result"
    }
   ],
   "source": [
    "df"
   ]
  },
  {
   "cell_type": "code",
   "execution_count": 16,
   "metadata": {},
   "outputs": [
    {
     "data": {
      "text/html": [
       "<div>\n",
       "<style scoped>\n",
       "    .dataframe tbody tr th:only-of-type {\n",
       "        vertical-align: middle;\n",
       "    }\n",
       "\n",
       "    .dataframe tbody tr th {\n",
       "        vertical-align: top;\n",
       "    }\n",
       "\n",
       "    .dataframe thead th {\n",
       "        text-align: right;\n",
       "    }\n",
       "</style>\n",
       "<table border=\"1\" class=\"dataframe\">\n",
       "  <thead>\n",
       "    <tr style=\"text-align: right;\">\n",
       "      <th></th>\n",
       "      <th>capital</th>\n",
       "      <th>habitantes</th>\n",
       "      <th>superficie (km^2)</th>\n",
       "    </tr>\n",
       "  </thead>\n",
       "  <tbody>\n",
       "    <tr>\n",
       "      <th>Chile</th>\n",
       "      <td>Santiago</td>\n",
       "      <td>19107000</td>\n",
       "      <td>756102</td>\n",
       "    </tr>\n",
       "    <tr>\n",
       "      <th>Colombia</th>\n",
       "      <td>Bogotá</td>\n",
       "      <td>50372424</td>\n",
       "      <td>1141748</td>\n",
       "    </tr>\n",
       "    <tr>\n",
       "      <th>Inglaterra</th>\n",
       "      <td>Londres</td>\n",
       "      <td>66796807</td>\n",
       "      <td>243610</td>\n",
       "    </tr>\n",
       "    <tr>\n",
       "      <th>Brasil</th>\n",
       "      <td>Brasilia</td>\n",
       "      <td>212822000</td>\n",
       "      <td>8515767</td>\n",
       "    </tr>\n",
       "    <tr>\n",
       "      <th>México</th>\n",
       "      <td>Ciudad de México</td>\n",
       "      <td>126014024</td>\n",
       "      <td>1964375</td>\n",
       "    </tr>\n",
       "    <tr>\n",
       "      <th>Argentina</th>\n",
       "      <td>Buenos Aires</td>\n",
       "      <td>45376763</td>\n",
       "      <td>2780400</td>\n",
       "    </tr>\n",
       "  </tbody>\n",
       "</table>\n",
       "</div>"
      ],
      "text/plain": [
       "                     capital  habitantes  superficie (km^2)\n",
       "Chile               Santiago    19107000             756102\n",
       "Colombia              Bogotá    50372424            1141748\n",
       "Inglaterra           Londres    66796807             243610\n",
       "Brasil              Brasilia   212822000            8515767\n",
       "México      Ciudad de México   126014024            1964375\n",
       "Argentina       Buenos Aires    45376763            2780400"
      ]
     },
     "execution_count": 16,
     "metadata": {},
     "output_type": "execute_result"
    }
   ],
   "source": [
    "df_2"
   ]
  },
  {
   "cell_type": "markdown",
   "metadata": {},
   "source": [
    "* Notemos que df tiene índices en base a la posición (como si fuese un arreglo o lista), mientras que df_2 tiene como índice a los paises"
   ]
  },
  {
   "cell_type": "markdown",
   "metadata": {},
   "source": [
    "## .loc y .iloc"
   ]
  },
  {
   "cell_type": "code",
   "execution_count": 18,
   "metadata": {},
   "outputs": [
    {
     "data": {
      "text/plain": [
       "capital              Santiago\n",
       "habitantes           19107000\n",
       "superficie (km^2)      756102\n",
       "Name: Chile, dtype: object"
      ]
     },
     "execution_count": 18,
     "metadata": {},
     "output_type": "execute_result"
    }
   ],
   "source": [
    "df_2.iloc[0]"
   ]
  }
 ],
 "metadata": {
  "colab": {
   "authorship_tag": "ABX9TyMF8QSrnSF6kQDDxxz03U9L",
   "collapsed_sections": [],
   "name": "Introducción_a_Pandas.ipynb",
   "provenance": [],
   "toc_visible": true
  },
  "kernelspec": {
   "display_name": "Python 3",
   "language": "python",
   "name": "python3"
  },
  "language_info": {
   "codemirror_mode": {
    "name": "ipython",
    "version": 3
   },
   "file_extension": ".py",
   "mimetype": "text/x-python",
   "name": "python",
   "nbconvert_exporter": "python",
   "pygments_lexer": "ipython3",
   "version": "3.7.3"
  }
 },
 "nbformat": 4,
 "nbformat_minor": 1
}
